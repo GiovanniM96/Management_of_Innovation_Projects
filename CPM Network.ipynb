{
 "cells": [
  {
   "cell_type": "markdown",
   "id": "84dca390-5aaa-4768-b3bc-508489dca0cf",
   "metadata": {},
   "source": [
    "# CPM Network"
   ]
  },
  {
   "cell_type": "markdown",
   "id": "880a1b0a-8723-417b-8a06-cda75d449bf8",
   "metadata": {},
   "source": [
    "Ecco un esempio di codice che crea un grafo e visualizza un reticolo CPM utilizzando la libreria NetworkX in Python:"
   ]
  },
  {
   "cell_type": "code",
   "execution_count": 2,
   "id": "6d6e729e-b955-4df7-8891-bb9eac0ee89a",
   "metadata": {},
   "outputs": [
    {
     "ename": "TypeError",
     "evalue": "'_AxesStack' object is not callable",
     "output_type": "error",
     "traceback": [
      "\u001b[0;31m---------------------------------------------------------------------------\u001b[0m",
      "\u001b[0;31mTypeError\u001b[0m                                 Traceback (most recent call last)",
      "\u001b[0;32m/var/folders/b2/kqnx_r5555gfw4sz0bdz9b440000gp/T/ipykernel_21941/2529272079.py\u001b[0m in \u001b[0;36m<module>\u001b[0;34m\u001b[0m\n\u001b[1;32m     34\u001b[0m \u001b[0;34m\u001b[0m\u001b[0m\n\u001b[1;32m     35\u001b[0m \u001b[0;31m# Visualizzare il grafo\u001b[0m\u001b[0;34m\u001b[0m\u001b[0;34m\u001b[0m\u001b[0m\n\u001b[0;32m---> 36\u001b[0;31m \u001b[0mnx\u001b[0m\u001b[0;34m.\u001b[0m\u001b[0mdraw\u001b[0m\u001b[0;34m(\u001b[0m\u001b[0mG\u001b[0m\u001b[0;34m,\u001b[0m \u001b[0mpos\u001b[0m\u001b[0;34m,\u001b[0m \u001b[0mnode_color\u001b[0m\u001b[0;34m=\u001b[0m\u001b[0;34m\"lightblue\"\u001b[0m\u001b[0;34m,\u001b[0m \u001b[0mnode_size\u001b[0m\u001b[0;34m=\u001b[0m\u001b[0;36m1000\u001b[0m\u001b[0;34m,\u001b[0m \u001b[0mwith_labels\u001b[0m\u001b[0;34m=\u001b[0m\u001b[0;32mTrue\u001b[0m\u001b[0;34m)\u001b[0m\u001b[0;34m\u001b[0m\u001b[0;34m\u001b[0m\u001b[0m\n\u001b[0m\u001b[1;32m     37\u001b[0m \u001b[0;34m\u001b[0m\u001b[0m\n\u001b[1;32m     38\u001b[0m \u001b[0;31m# Evidenziare il cammino critico\u001b[0m\u001b[0;34m\u001b[0m\u001b[0;34m\u001b[0m\u001b[0m\n",
      "\u001b[0;32m~/opt/anaconda3/lib/python3.9/site-packages/networkx/drawing/nx_pylab.py\u001b[0m in \u001b[0;36mdraw\u001b[0;34m(G, pos, ax, **kwds)\u001b[0m\n\u001b[1;32m    111\u001b[0m     \u001b[0mcf\u001b[0m\u001b[0;34m.\u001b[0m\u001b[0mset_facecolor\u001b[0m\u001b[0;34m(\u001b[0m\u001b[0;34m\"w\"\u001b[0m\u001b[0;34m)\u001b[0m\u001b[0;34m\u001b[0m\u001b[0;34m\u001b[0m\u001b[0m\n\u001b[1;32m    112\u001b[0m     \u001b[0;32mif\u001b[0m \u001b[0max\u001b[0m \u001b[0;32mis\u001b[0m \u001b[0;32mNone\u001b[0m\u001b[0;34m:\u001b[0m\u001b[0;34m\u001b[0m\u001b[0;34m\u001b[0m\u001b[0m\n\u001b[0;32m--> 113\u001b[0;31m         \u001b[0;32mif\u001b[0m \u001b[0mcf\u001b[0m\u001b[0;34m.\u001b[0m\u001b[0m_axstack\u001b[0m\u001b[0;34m(\u001b[0m\u001b[0;34m)\u001b[0m \u001b[0;32mis\u001b[0m \u001b[0;32mNone\u001b[0m\u001b[0;34m:\u001b[0m\u001b[0;34m\u001b[0m\u001b[0;34m\u001b[0m\u001b[0m\n\u001b[0m\u001b[1;32m    114\u001b[0m             \u001b[0max\u001b[0m \u001b[0;34m=\u001b[0m \u001b[0mcf\u001b[0m\u001b[0;34m.\u001b[0m\u001b[0madd_axes\u001b[0m\u001b[0;34m(\u001b[0m\u001b[0;34m(\u001b[0m\u001b[0;36m0\u001b[0m\u001b[0;34m,\u001b[0m \u001b[0;36m0\u001b[0m\u001b[0;34m,\u001b[0m \u001b[0;36m1\u001b[0m\u001b[0;34m,\u001b[0m \u001b[0;36m1\u001b[0m\u001b[0;34m)\u001b[0m\u001b[0;34m)\u001b[0m\u001b[0;34m\u001b[0m\u001b[0;34m\u001b[0m\u001b[0m\n\u001b[1;32m    115\u001b[0m         \u001b[0;32melse\u001b[0m\u001b[0;34m:\u001b[0m\u001b[0;34m\u001b[0m\u001b[0;34m\u001b[0m\u001b[0m\n",
      "\u001b[0;31mTypeError\u001b[0m: '_AxesStack' object is not callable"
     ]
    },
    {
     "data": {
      "text/plain": [
       "<Figure size 640x480 with 0 Axes>"
      ]
     },
     "metadata": {},
     "output_type": "display_data"
    }
   ],
   "source": [
    "import matplotlib.pyplot as plt\n",
    "\n",
    "# Creazione del grafo\n",
    "G = nx.DiGraph()\n",
    "\n",
    "## Aggiunta dei nodi\n",
    "#G.add_node(\"A\", pos=(0, 0))\n",
    "#G.add_node(\"B\", pos=(1, 1))\n",
    "#G.add_node(\"C\", pos=(2, 2))\n",
    "#G.add_node(\"D\", pos=(3, 3))\n",
    "#G.add_node(\"E\", pos=(3, 5))\n",
    "G.add_node(\"A\")\n",
    "G.add_node(\"B\")\n",
    "G.add_node(\"C\")\n",
    "G.add_node(\"D\")\n",
    "G.add_node(\"E\")\n",
    "G.add_node(\"F\")\n",
    "\n",
    "# Aggiunta degli archi\n",
    "G.add_edge(\"A\", \"B\", weight=1)\n",
    "G.add_edge(\"B\", \"C\", weight=2)\n",
    "G.add_edge(\"C\", \"D\", weight=3)\n",
    "G.add_edge(\"C\", \"E\", weight=2)\n",
    "G.add_edge(\"E\", \"F\", weight=4)\n",
    "G.add_edge(\"D\", \"F\", weight=3)\n",
    "\n",
    "# Calcola la durata totale del progetto\n",
    "total_duration = nx.dag_longest_path_length(G, weight=\"weight\")\n",
    "print(\"La durata totale del progetto è:\", total_duration)\n",
    "\n",
    "# Calcolare il cammino critico\n",
    "critical_path = nx.dag_longest_path(G)\n",
    "print(\"La durata totale del percorso critico è:\", critical_path)\n",
    "\n",
    "## Visualizzare il grafo\n",
    "#pos = nx.get_node_attributes(G, \"pos\")\n",
    "#nx.draw(G, pos, node_color=\"lightblue\", node_size=1000, with_labels=True)\n",
    "\n",
    "# Impostazione automatica delle posizioni dei nodi\n",
    "pos = nx.spring_layout(G)\n",
    "\n",
    "# Visualizzare il grafo\n",
    "nx.draw(G, pos, node_color=\"lightblue\", node_size=1000, with_labels=True)\n",
    "\n",
    "# Evidenziare il cammino critico\n",
    "nx.draw_networkx_edges(G, pos, edgelist=[(critical_path[i], critical_path[i+1]) for i in range(len(critical_path)-1)],\n",
    "                       edge_color=\"red\", width=2)\n",
    "\n",
    "\n",
    "# Mostrare il grafico\n",
    "plt.show()"
   ]
  },
  {
   "cell_type": "markdown",
   "id": "d295a199-8d0b-40df-a0a0-7c3b285964de",
   "metadata": {},
   "source": [
    "In questo esempio, creiamo un grafo diretto G e aggiungiamo i nodi e gli archi. Quindi calcoliamo il cammino critico utilizzando la funzione nx.dag_longest_path e visualizziamo il grafo con la funzione nx.draw. Evidenziamo il cammino critico in rosso e mostriamo il grafico utilizzando la funzione plt.show()."
   ]
  },
  {
   "cell_type": "markdown",
   "id": "7e79480c-8c28-4a6f-be6e-a46e9d2516bb",
   "metadata": {},
   "source": [
    "## CPM Pyvis Library"
   ]
  },
  {
   "cell_type": "markdown",
   "id": "1ef32bc1-487f-493a-a758-4d4090780bf4",
   "metadata": {},
   "source": [
    "è possibile utilizzare la libreria Pyvis per creare un grafico CPM. Ecco un esempio di codice che crea un semplice grafico CPM:"
   ]
  },
  {
   "cell_type": "code",
   "execution_count": 16,
   "id": "c44fba59-3691-48e6-a62b-37461cc26cad",
   "metadata": {},
   "outputs": [
    {
     "name": "stdout",
     "output_type": "stream",
     "text": [
      "Local cdn resources have problems on chrome/safari when used in jupyter-notebook. \n"
     ]
    },
    {
     "data": {
      "text/html": [
       "\n",
       "        <iframe\n",
       "            width=\"100%\"\n",
       "            height=\"600px\"\n",
       "            src=\"cpm.html\"\n",
       "            frameborder=\"0\"\n",
       "            allowfullscreen\n",
       "            \n",
       "        ></iframe>\n",
       "        "
      ],
      "text/plain": [
       "<IPython.lib.display.IFrame at 0x7fb01651a8b0>"
      ]
     },
     "execution_count": 16,
     "metadata": {},
     "output_type": "execute_result"
    }
   ],
   "source": [
    "from pyvis.network import Network\n",
    "\n",
    "# Crea un oggetto di tipo Network\n",
    "g = Network(notebook=True)\n",
    "\n",
    "# Aggiungi i nodi al grafico\n",
    "g.add_node(\"A\", label=\"Attività 1\", color=\"#00A0B0\")\n",
    "g.add_node(\"B\", label=\"Attività 2\", color=\"#00A0B0\")\n",
    "g.add_node(\"C\", label=\"Attività 3\", color=\"#00A0B0\")\n",
    "g.add_node(\"D\", label=\"Attività 4\", color=\"#00A0B0\")\n",
    "\n",
    "# Aggiungi le relazioni tra i nodi\n",
    "g.add_edge(\"A\", \"B\", label=\"0\")\n",
    "g.add_edge(\"A\", \"D\", label=\"0\")\n",
    "g.add_edge(\"B\", \"C\", label=\"1\")\n",
    "g.add_edge(\"C\", \"D\", label=\"2\")\n",
    "\n",
    "# Mostra il grafico\n",
    "g.show(\"cpm.html\")\n"
   ]
  },
  {
   "cell_type": "markdown",
   "id": "77ee0c2a-dbc6-46da-b922-2637f06d9cd5",
   "metadata": {},
   "source": [
    "In questo esempio, abbiamo creato un oggetto di tipo Network e abbiamo aggiunto 4 nodi al grafico, ognuno con un'etichetta e un colore. Successivamente, abbiamo definito le relazioni tra i nodi usando il metodo add_edge, che crea un arco tra due nodi. Infine, abbiamo utilizzato il metodo show per visualizzare il grafico."
   ]
  },
  {
   "cell_type": "code",
   "execution_count": 15,
   "id": "f6a01114-fa73-4d96-bc02-cdbc80766a1c",
   "metadata": {},
   "outputs": [
    {
     "name": "stdout",
     "output_type": "stream",
     "text": [
      "Percorso critico: IGRAPH DN-- 7 6 --\n",
      "+ attr: name (v)\n",
      "+ edges (vertex names):\n",
      "A->B, B->C, C->D, D->E, E->F, F->G\n"
     ]
    }
   ],
   "source": [
    "import igraph as ig\n",
    "\n",
    "# definisci i nodi del grafico\n",
    "nodes = [\"A\", \"B\", \"C\", \"D\", \"E\", \"F\", \"G\"]\n",
    "\n",
    "# definisci gli archi del grafico\n",
    "edges = [(0, 1), (1, 2), (2, 3), (3, 4), (4, 5), (5, 6)]\n",
    "\n",
    "# crea un grafico vuoto utilizzando igraph\n",
    "g = ig.Graph(directed=True)\n",
    "\n",
    "# Aggiungi i nodi al grafico\n",
    "g.add_vertices(nodes)\n",
    "\n",
    "# Aggiungi gli archi al grafico\n",
    "g.add_edges(edges)\n",
    "\n",
    "# Calcola il percorso critico del grafico\n",
    "#critical_path = g.critical_path()\n",
    "\n",
    "# Stampa il percorso critico\n",
    "print(\"Percorso critico:\", g)#critical_path)\n"
   ]
  },
  {
   "cell_type": "code",
   "execution_count": 17,
   "id": "0b41711d-8cb7-4aa8-9cc5-4e968d4d409b",
   "metadata": {},
   "outputs": [
    {
     "name": "stdout",
     "output_type": "stream",
     "text": [
      "Local cdn resources have problems on chrome/safari when used in jupyter-notebook. \n"
     ]
    },
    {
     "data": {
      "text/html": [
       "\n",
       "        <iframe\n",
       "            width=\"100%\"\n",
       "            height=\"500px\"\n",
       "            src=\"circuito.html\"\n",
       "            frameborder=\"0\"\n",
       "            allowfullscreen\n",
       "            \n",
       "        ></iframe>\n",
       "        "
      ],
      "text/plain": [
       "<IPython.lib.display.IFrame at 0x7fb0163aa310>"
      ]
     },
     "execution_count": 17,
     "metadata": {},
     "output_type": "execute_result"
    }
   ],
   "source": [
    "import networkx as nx\n",
    "from pyvis.network import Network\n",
    "\n",
    "# Creazione del grafico vuoto\n",
    "G = nx.Graph()\n",
    "\n",
    "# Aggiungi i nodi\n",
    "G.add_node(\"A\", label=\"Tensione\")\n",
    "G.add_node(\"B\", label=\"Resistenza 1\")\n",
    "G.add_node(\"C\", label=\"Resistenza 2\")\n",
    "G.add_node(\"D\", label=\"Corrente\")\n",
    "\n",
    "# Aggiungi gli archi\n",
    "G.add_edge(\"A\", \"B\")\n",
    "G.add_edge(\"B\", \"C\")\n",
    "G.add_edge(\"C\", \"D\")\n",
    "\n",
    "# Crea l'oggetto Network\n",
    "net = Network(notebook=True, height=\"500px\", width=\"100%\")\n",
    "\n",
    "# Aggiungi i nodi al grafico\n",
    "for node in G.nodes():\n",
    "    net.add_node(node, label=G.nodes[node]['label'])\n",
    "\n",
    "# Aggiungi gli archi al grafico\n",
    "for edge in G.edges():\n",
    "    net.add_edge(edge[0], edge[1])\n",
    "\n",
    "# Visualizza il grafico\n",
    "net.show(\"circuito.html\")\n"
   ]
  },
  {
   "cell_type": "code",
   "execution_count": 21,
   "id": "7e78efff-03d7-452a-a86c-c1afedd84636",
   "metadata": {},
   "outputs": [
    {
     "name": "stdout",
     "output_type": "stream",
     "text": [
      "Local cdn resources have problems on chrome/safari when used in jupyter-notebook. \n"
     ]
    },
    {
     "data": {
      "text/html": [
       "\n",
       "        <iframe\n",
       "            width=\"100%\"\n",
       "            height=\"600px\"\n",
       "            src=\"circuito.html\"\n",
       "            frameborder=\"0\"\n",
       "            allowfullscreen\n",
       "            \n",
       "        ></iframe>\n",
       "        "
      ],
      "text/plain": [
       "<IPython.lib.display.IFrame at 0x7fb0166cea00>"
      ]
     },
     "execution_count": 21,
     "metadata": {},
     "output_type": "execute_result"
    }
   ],
   "source": [
    "import networkx as nx\n",
    "from pyvis.network import Network\n",
    "\n",
    "# Crea il grafico del circuito\n",
    "g = nx.Graph()\n",
    "\n",
    "# Aggiungi i nodi\n",
    "g.add_node(\"A\")\n",
    "g.add_node(\"B\")\n",
    "g.add_node(\"C\")\n",
    "g.add_node(\"D\")\n",
    "\n",
    "# Aggiungi i rami\n",
    "g.add_edge(\"A\", \"B\", label=\"Tensione\")\n",
    "g.add_edge(\"B\", \"C\", label=\"Resistenza 1\")\n",
    "g.add_edge(\"C\", \"D\", label=\"Resistenza 2\")\n",
    "g.add_edge(\"D\", \"A\")\n",
    "g.add_edge(\"A\", \"C\")\n",
    "\n",
    "# Crea un'istanza di Network\n",
    "net = Network(notebook=True)\n",
    "\n",
    "# Aggiungi il grafico\n",
    "net.from_nx(g)\n",
    "\n",
    "# Visualizza il circuito\n",
    "net.show(\"circuito.html\")\n",
    "\n",
    "\n",
    "# Crea l'oggetto Network\n",
    "#net = Network(notebook=True, height=\"500px\", width=\"100%\")\n",
    "\n",
    "# Aggiungi i nodi al grafico\n",
    "#for node in G.nodes():\n",
    "#    net.add_node(node, label=G.nodes[node]['label'])\n",
    "\n",
    "# Aggiungi gli archi al grafico\n",
    "#for edge in G.edges():\n",
    "#    net.add_edge(edge[0], edge[1])\n",
    "\n",
    "# Visualizza il grafico\n",
    "#net.show(\"circuito.html\")"
   ]
  },
  {
   "cell_type": "code",
   "execution_count": null,
   "id": "f461c7fe-1326-431f-ae4b-5967ca1a98f5",
   "metadata": {},
   "outputs": [],
   "source": []
  }
 ],
 "metadata": {
  "kernelspec": {
   "display_name": "Python 3 (ipykernel)",
   "language": "python",
   "name": "python3"
  },
  "language_info": {
   "codemirror_mode": {
    "name": "ipython",
    "version": 3
   },
   "file_extension": ".py",
   "mimetype": "text/x-python",
   "name": "python",
   "nbconvert_exporter": "python",
   "pygments_lexer": "ipython3",
   "version": "3.9.7"
  }
 },
 "nbformat": 4,
 "nbformat_minor": 5
}
